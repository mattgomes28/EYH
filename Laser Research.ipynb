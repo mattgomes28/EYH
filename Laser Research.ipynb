{
 "cells": [
  {
   "cell_type": "markdown",
   "metadata": {},
   "source": [
    "Firstly, we needed to know the light intensity with respect to the diffraction of the laser beam. This would allow us to know exactly how much we could diffract the laser beam by, while still maintaining the visibility of the laser beam under daylight.\n",
    "\n",
    "For this reason, we decided to use the diffraction grating formula. This formula allows us to work out what the wavelength is given the slit separation, the order and the angle between the orders: $$\\lambda=\\frac{dsin(\\theta)}{n}$$\n",
    "\n",
    "We then rearranged the formula so we could find the optimal value for $n$. Further more, we let $\\theta=\\frac{\\pi}{2}$ in order to find a value for $n$ where the light is still visible so we could substitute this value back into the original formula and vary $d$ to find the opitimal value for the slit separation."
   ]
  },
  {
   "cell_type": "code",
   "execution_count": null,
   "metadata": {
    "collapsed": true
   },
   "outputs": [],
   "source": [
    "%matplotlib inline\n",
    "import numpy\n",
    "import matplotlib.pyplot as plt\n",
    "\n",
    "def graph(function, w_range, h_range):\n",
    "    y = numpy.array([function(w, h) for w in w_range for h in h_range])\n",
    "    x = numpy.array([(w*h) for w in w_range for h in h_range])\n",
    "    plt.plot(x, y)  \n",
    "    plt.show()\n",
    "    \n",
    "def getN(d, wave_length):\n",
    "    # Just doing the formula above\n",
    "    return d/\n",
    "\n",
    "W = numpy.arange(500,1000, 50) # From 5m to 10m\n",
    "H = numpy.arange(10, 50, 1) # From 30cm to 50cm\n",
    "\n",
    "graph(getN, W, H)\n",
    "print(getN(700,10)) # Price of our chose dimension"
   ]
  }
 ],
 "metadata": {
  "kernelspec": {
   "display_name": "Python 3",
   "language": "python",
   "name": "python3"
  },
  "language_info": {
   "codemirror_mode": {
    "name": "ipython",
    "version": 3
   },
   "file_extension": ".py",
   "mimetype": "text/x-python",
   "name": "python",
   "nbconvert_exporter": "python",
   "pygments_lexer": "ipython3",
   "version": "3.5.1"
  }
 },
 "nbformat": 4,
 "nbformat_minor": 0
}
